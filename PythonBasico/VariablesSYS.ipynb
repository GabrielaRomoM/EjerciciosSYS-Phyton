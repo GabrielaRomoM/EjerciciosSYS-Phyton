{
  "nbformat": 4,
  "nbformat_minor": 0,
  "metadata": {
    "colab": {
      "provenance": [],
      "authorship_tag": "ABX9TyNhvLtOz6SVmn8ket3ZL6ZS",
      "include_colab_link": true
    },
    "kernelspec": {
      "name": "python3",
      "display_name": "Python 3"
    },
    "language_info": {
      "name": "python"
    }
  },
  "cells": [
    {
      "cell_type": "markdown",
      "metadata": {
        "id": "view-in-github",
        "colab_type": "text"
      },
      "source": [
        "<a href=\"https://colab.research.google.com/github/GabrielaRomoM/EjerciciosSYS-Phyton/blob/main/VariablesSYS.ipynb\" target=\"_parent\"><img src=\"https://colab.research.google.com/assets/colab-badge.svg\" alt=\"Open In Colab\"/></a>"
      ]
    },
    {
      "cell_type": "code",
      "execution_count": null,
      "metadata": {
        "id": "UK8t8FiwawiV"
      },
      "outputs": [],
      "source": [
        "#EJERCICIOS"
      ]
    },
    {
      "cell_type": "code",
      "source": [
        "#EJERCICIOS"
      ],
      "metadata": {
        "id": "aSs089njb0Rm"
      },
      "execution_count": null,
      "outputs": []
    },
    {
      "cell_type": "code",
      "source": [
        "#1\n",
        "x = (((3+2)/2.5)**2)\n",
        "x"
      ],
      "metadata": {
        "colab": {
          "base_uri": "https://localhost:8080/"
        },
        "id": "zry6UGuec9ZY",
        "outputId": "6f7fb666-95b3-4c2c-81ea-91d5f567e265"
      },
      "execution_count": null,
      "outputs": [
        {
          "output_type": "execute_result",
          "data": {
            "text/plain": [
              "4.0"
            ]
          },
          "metadata": {},
          "execution_count": 7
        }
      ]
    },
    {
      "cell_type": "code",
      "source": [
        "#2\n",
        "a= input(\"Digite el numero de horas trabajadas: \")\n",
        "a\n",
        "a2= int(a)\n",
        "a2\n",
        "b= input(\"Digite el valor a pagar por hora: \")\n",
        "b\n",
        "b2= int(b)\n",
        "b2\n",
        "c= (a2*b2)\n",
        "print(\"El valor total a pagar es: \")\n",
        "print(c)"
      ],
      "metadata": {
        "colab": {
          "base_uri": "https://localhost:8080/"
        },
        "id": "e5GQ7XhDdSxX",
        "outputId": "7d585b05-6f13-4d02-ac49-f441e1f8d559"
      },
      "execution_count": null,
      "outputs": [
        {
          "output_type": "stream",
          "name": "stdout",
          "text": [
            "Digite el numero de horas trabajadas: 5\n",
            "Digite el valor a pagar por hora: 20000\n",
            "El valor total a pagar es: \n",
            "100000\n"
          ]
        }
      ]
    },
    {
      "cell_type": "code",
      "source": [
        "#3\n",
        "w= input(\"Digite su peso en kilogramos: \")\n",
        "w\n",
        "w2= float(w)\n",
        "w2\n",
        "s= input(\"Digite su estatura en metros: \")\n",
        "s\n",
        "s2= float(s)\n",
        "s2\n",
        "q=((w2/(s2**2)))\n",
        "q2=round(q,2)\n",
        "print(\"Su IMC es: \")\n",
        "print(q2)\n"
      ],
      "metadata": {
        "colab": {
          "base_uri": "https://localhost:8080/"
        },
        "id": "DYd49sd_fEMG",
        "outputId": "479ec0a1-6ef3-4a3b-860c-1f331a0322d2"
      },
      "execution_count": null,
      "outputs": [
        {
          "output_type": "stream",
          "name": "stdout",
          "text": [
            "Digite su peso en kilogramos: 45\n",
            "Digite su estatura en metros: 1.61\n",
            "Su IMC es: \n",
            "17.36\n"
          ]
        }
      ]
    }
  ]
}
