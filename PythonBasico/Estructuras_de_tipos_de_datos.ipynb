{
  "nbformat": 4,
  "nbformat_minor": 0,
  "metadata": {
    "colab": {
      "provenance": [],
      "authorship_tag": "ABX9TyPeiogn5FqI/H9lVJT0mUf6",
      "include_colab_link": true
    },
    "kernelspec": {
      "name": "python3",
      "display_name": "Python 3"
    },
    "language_info": {
      "name": "python"
    }
  },
  "cells": [
    {
      "cell_type": "markdown",
      "metadata": {
        "id": "view-in-github",
        "colab_type": "text"
      },
      "source": [
        "<a href=\"https://colab.research.google.com/github/GabrielaRomoM/EjerciciosSYS-Python/blob/main/Estructuras_de_tipos_de_datos.ipynb\" target=\"_parent\"><img src=\"https://colab.research.google.com/assets/colab-badge.svg\" alt=\"Open In Colab\"/></a>"
      ]
    },
    {
      "cell_type": "code",
      "execution_count": 3,
      "metadata": {
        "colab": {
          "base_uri": "https://localhost:8080/"
        },
        "id": "hrflyZ6UC--b",
        "outputId": "dd444080-c5f9-481f-d43c-b265c80c6e8a"
      },
      "outputs": [
        {
          "output_type": "stream",
          "name": "stdout",
          "text": [
            "La suma de los numeros impares en la lista es: \n",
            "25\n"
          ]
        }
      ],
      "source": [
        "#EJERCICIO 1\n",
        "\n",
        "def suma(num):\n",
        "  impsum=0\n",
        "  for n in num:\n",
        "    if n % 2!= 0:\n",
        "      impsum +=n\n",
        "  return impsum\n",
        "\n",
        "list_num=[1,2,3,4,5,6,7,8,9,0]\n",
        "res= suma(list_num)\n",
        "print ('La suma de los numeros impares en la lista es: ')\n",
        "print(res)"
      ]
    },
    {
      "cell_type": "code",
      "source": [
        "#EJERCICIO 2\n",
        "\n",
        "def cont(palabras):\n",
        "  palabrascont={}\n",
        "  for palabra in palabras:\n",
        "    if palabra in palabrascont:\n",
        "      palabrascont[palabra]+=1\n",
        "    else:\n",
        "      palabrascont[palabra]=1\n",
        "  return palabrascont\n",
        "\n",
        "lista_palabras =['manzana','banano', 'manzana','cereza','cereza','cereza','banano','manzana','manzana']\n",
        "resp= cont(lista_palabras)\n",
        "print ('La cantidad de veces que se encuentra cada palabra es: ')\n",
        "print(resp)"
      ],
      "metadata": {
        "colab": {
          "base_uri": "https://localhost:8080/"
        },
        "id": "EDlxntBwGJV4",
        "outputId": "b09f1904-693c-4964-ad3e-9da5e7142234"
      },
      "execution_count": 4,
      "outputs": [
        {
          "output_type": "stream",
          "name": "stdout",
          "text": [
            "La cantidad de veces que se encuentra cada palabra es: \n",
            "{'manzana': 4, 'banano': 2, 'cereza': 3}\n"
          ]
        }
      ]
    }
  ]
}
