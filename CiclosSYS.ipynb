{
  "nbformat": 4,
  "nbformat_minor": 0,
  "metadata": {
    "colab": {
      "provenance": [],
      "authorship_tag": "ABX9TyMtlLBgythkPw7YEZh3xy7h",
      "include_colab_link": true
    },
    "kernelspec": {
      "name": "python3",
      "display_name": "Python 3"
    },
    "language_info": {
      "name": "python"
    }
  },
  "cells": [
    {
      "cell_type": "markdown",
      "metadata": {
        "id": "view-in-github",
        "colab_type": "text"
      },
      "source": [
        "<a href=\"https://colab.research.google.com/github/GabrielaRomoM/EjerciciosSYS-Phyton/blob/main/CiclosSYS.ipynb\" target=\"_parent\"><img src=\"https://colab.research.google.com/assets/colab-badge.svg\" alt=\"Open In Colab\"/></a>"
      ]
    },
    {
      "cell_type": "code",
      "execution_count": 84,
      "metadata": {
        "id": "NTgLlyYIswgB",
        "colab": {
          "base_uri": "https://localhost:8080/"
        },
        "outputId": "bde216da-1dc7-4d88-d5f8-71c0ea52607e"
      },
      "outputs": [
        {
          "output_type": "stream",
          "name": "stdout",
          "text": [
            "Digite un número entero: 6\n",
            "Digite un número entero: 5\n",
            "Digite un número entero: 4\n",
            "Digite un número entero: 3\n",
            "Digite un número entero: 2\n",
            "Digite un número entero: 1\n",
            "Digite un número entero: 0\n",
            "La cantidad de números ingresados fue: \n",
            "7\n"
          ]
        }
      ],
      "source": [
        "#EJERCICIO 1\n",
        "\n",
        "count= 0\n",
        "\n",
        "while True:\n",
        "  num= int(input(\"Digite un número entero: \"))\n",
        "  count += 1\n",
        "  if num==0:\n",
        "    break\n",
        "\n",
        "print(\"La cantidad de números ingresados fue: \")\n",
        "print(count)"
      ]
    },
    {
      "cell_type": "code",
      "source": [
        "#EJERICIO 2\n",
        "\n",
        "count=0\n",
        "sum=0\n",
        "\n",
        "while True:\n",
        "  dig= int(input(\"Digite un numero entero: \"))\n",
        "  if dig %2==0:\n",
        "    count+=1\n",
        "    if count==10:\n",
        "      break\n",
        "  for i in range(1,dig+1):\n",
        "    sum+=1\n",
        "  if sum>50:\n",
        "    break\n",
        "\n",
        "print(\"Fin del programa.\")\n",
        "\n",
        "#segun mi interpretación del ejercicio, solo se toma en cuenta la suma y el conteo solo si el numero es par"
      ],
      "metadata": {
        "colab": {
          "base_uri": "https://localhost:8080/"
        },
        "id": "2ucKlpVkjxAC",
        "outputId": "506f4a30-1af0-48f6-c316-4b7d8ca6ca14"
      },
      "execution_count": 24,
      "outputs": [
        {
          "output_type": "stream",
          "name": "stdout",
          "text": [
            "Digite un numero entero: 20\n",
            "Digite un numero entero: 20\n",
            "Digite un numero entero: 10\n",
            "Digite un numero entero: 20\n",
            "Fin del programa.\n"
          ]
        }
      ]
    }
  ]
}