{
  "nbformat": 4,
  "nbformat_minor": 0,
  "metadata": {
    "colab": {
      "provenance": [],
      "authorship_tag": "ABX9TyNRkvKiGqyDQcZ1Czy5zIlB",
      "include_colab_link": true
    },
    "kernelspec": {
      "name": "python3",
      "display_name": "Python 3"
    },
    "language_info": {
      "name": "python"
    }
  },
  "cells": [
    {
      "cell_type": "markdown",
      "metadata": {
        "id": "view-in-github",
        "colab_type": "text"
      },
      "source": [
        "<a href=\"https://colab.research.google.com/github/GabrielaRomoM/EjerciciosSYS-Python/blob/main/FUNCIONESSYS.ipynb\" target=\"_parent\"><img src=\"https://colab.research.google.com/assets/colab-badge.svg\" alt=\"Open In Colab\"/></a>"
      ]
    },
    {
      "cell_type": "code",
      "execution_count": 1,
      "metadata": {
        "colab": {
          "base_uri": "https://localhost:8080/"
        },
        "id": "s4YMOk-93ci2",
        "outputId": "c3ff2fb8-c63b-4a4b-9160-caf5e642fecc"
      },
      "outputs": [
        {
          "output_type": "stream",
          "name": "stdout",
          "text": [
            "Digite el tamaño del 1er lado del triangulo: 4\n",
            "Digite el tamaño del 2do lado del triangulo: 5\n",
            "Digite el tamaño del 3er lado del triangulo: 6\n",
            "El area del triangulo es: \n",
            "9.9\n"
          ]
        }
      ],
      "source": [
        "#EJERCICIO 1\n",
        "\n",
        "import math\n",
        "\n",
        "def area_triangulo(s1,s2,s3):\n",
        "  s =((s1+s2+s3)/2)\n",
        "  a= math.sqrt(s*(s-s1)*(s-s2)*(s-s3))\n",
        "  r_area = round(a,1)\n",
        "  return r_area\n",
        "\n",
        "s1= int(input(\"Digite el tamaño del 1er lado del triangulo: \"))\n",
        "s2= int(input(\"Digite el tamaño del 2do lado del triangulo: \"))\n",
        "s3= int(input(\"Digite el tamaño del 3er lado del triangulo: \"))\n",
        "\n",
        "resultado = area_triangulo(s1,s2,s3)\n",
        "print (\"El area del triangulo es: \")\n",
        "print (resultado)"
      ]
    },
    {
      "cell_type": "code",
      "source": [
        "#EJERCICIO 2\n",
        "\n",
        "def IMC(peso_libras,altura_pulg):\n",
        "  kg= (peso_libras*0.45)\n",
        "  m= (altura_pulg*0.025)\n",
        "  BMI= (kg/(m**2))\n",
        "  r_BMI= round(BMI,2)\n",
        "  return r_BMI\n",
        "\n",
        "peso_libras= float(input(\"Digite su peso en libras: \"))\n",
        "altura_pulg= float(input(\"Digite su altura en pies: \"))\n",
        "\n",
        "BMIresultado = IMC(peso_libras,altura_pulg)\n",
        "print(\"Su IMC es: \")\n",
        "print(BMIresultado)\n"
      ],
      "metadata": {
        "colab": {
          "base_uri": "https://localhost:8080/"
        },
        "id": "7-UThl7e9ADT",
        "outputId": "9f0958d8-54ca-46c9-ee37-023569e65f99"
      },
      "execution_count": 5,
      "outputs": [
        {
          "output_type": "stream",
          "name": "stdout",
          "text": [
            "Digite su peso en libras: 100\n",
            "Digite su altura en pies: 64.8\n",
            "Su IMC es: \n",
            "17.15\n"
          ]
        }
      ]
    }
  ]
}