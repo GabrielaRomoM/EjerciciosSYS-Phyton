{
  "nbformat": 4,
  "nbformat_minor": 0,
  "metadata": {
    "colab": {
      "provenance": [],
      "authorship_tag": "ABX9TyPTi0Z+hYh552PrKqwxDxCI",
      "include_colab_link": true
    },
    "kernelspec": {
      "name": "python3",
      "display_name": "Python 3"
    },
    "language_info": {
      "name": "python"
    }
  },
  "cells": [
    {
      "cell_type": "markdown",
      "metadata": {
        "id": "view-in-github",
        "colab_type": "text"
      },
      "source": [
        "<a href=\"https://colab.research.google.com/github/GabrielaRomoM/EjerciciosSYS-Python/blob/main/CLASES.ipynb\" target=\"_parent\"><img src=\"https://colab.research.google.com/assets/colab-badge.svg\" alt=\"Open In Colab\"/></a>"
      ]
    },
    {
      "cell_type": "code",
      "execution_count": 12,
      "metadata": {
        "colab": {
          "base_uri": "https://localhost:8080/"
        },
        "id": "743XxazZcgJm",
        "outputId": "3a37cb15-11ea-431f-98db-0ad308fd6171"
      },
      "outputs": [
        {
          "output_type": "stream",
          "name": "stdout",
          "text": [
            "- Hola, me llamo Gabriela, tengo 18 años y soy mujer.\n",
            "- Hola! Gabriela, soy Mateo.\n"
          ]
        }
      ],
      "source": [
        "#EJERCICIO 1\n",
        "\n",
        "class Persona:\n",
        "    def __init__(self, nombre, edad, genero):\n",
        "        self.nombre = nombre\n",
        "        self.edad = edad\n",
        "        self.genero = genero\n",
        "\n",
        "    def presentarse(self):\n",
        "        print(f\"- Hola, me llamo {self.nombre}, tengo {self.edad} años y soy {self.genero}.\")\n",
        "\n",
        "    def saludar(self, otra_persona):\n",
        "        print(f\"- Hola! {otra_persona.nombre}, soy {self.nombre}.\")\n",
        "\n",
        "persona1= Persona(\"Gabriela\",18,\"mujer\")\n",
        "persona2= Persona(\"Mateo\",21,\"hombre\")\n",
        "\n",
        "persona1.presentarse()\n",
        "persona2.saludar(persona1)\n"
      ]
    },
    {
      "cell_type": "code",
      "source": [
        "#EJERCICIO 2\n",
        "\n",
        "class Carro:\n",
        "    def __init__(self, marca, modelo, año, kilometraje):\n",
        "        self.marca = marca\n",
        "        self.modelo = modelo\n",
        "        self.año = año\n",
        "        self.kilometraje = kilometraje\n",
        "        self.encendido = False\n",
        "        self.velocidad = 0\n",
        "\n",
        "    def arrancar(self):\n",
        "        if not self.encendido:\n",
        "            self.encendido = True\n",
        "            print(f\"El carro {self.marca} {self.modelo} arrancó.\")\n",
        "        else:\n",
        "            print(f\"El carro {self.marca} {self.modelo} esta apagado.\")\n",
        "\n",
        "    def acelerar(self, velocidad_aumento):\n",
        "        if self.encendido:\n",
        "            self.velocidad += velocidad_aumento\n",
        "            print(f\"El carro {self.marca} {self.modelo} ha acelerado a {self.velocidad} km/h.\")\n",
        "        else:\n",
        "            print(f\"El carro {self.marca} {self.modelo} no puede acelerar porque está apagado.\")\n",
        "\n",
        "    def frenar(self, velocidad_disminucion):\n",
        "        if self.encendido:\n",
        "            if self.velocidad >= velocidad_disminucion:\n",
        "                self.velocidad -= velocidad_disminucion\n",
        "                print(f\"El carro {self.marca} {self.modelo} frenó a {self.velocidad} km/h.\")\n",
        "            else:\n",
        "                print(f\"El carro {self.marca} {self.modelo} no puede frenar porque está apagado.\")\n",
        "\n",
        "micarro = Carro(\"Chevrolet\", \"Silverado\", 1998, 15000)\n",
        "\n",
        "micarro.arrancar()\n",
        "micarro.acelerar(60)\n",
        "micarro.frenar(15)\n"
      ],
      "metadata": {
        "colab": {
          "base_uri": "https://localhost:8080/"
        },
        "id": "82aQOlIHep-r",
        "outputId": "6725bac4-6731-4606-c3a8-631c6ce0aa85"
      },
      "execution_count": 16,
      "outputs": [
        {
          "output_type": "stream",
          "name": "stdout",
          "text": [
            "El carro Chevrolet Silverado arrancó.\n",
            "El carro Chevrolet Silverado ha acelerado a 60 km/h.\n",
            "El carro Chevrolet Silverado frenó a 45 km/h.\n"
          ]
        }
      ]
    },
    {
      "cell_type": "code",
      "source": [
        "#EJERCICIO 3\n",
        "\n",
        "class Rectangulo:\n",
        "    def __init__(self, longitud, ancho):\n",
        "        self.longitud = longitud\n",
        "        self.ancho = ancho\n",
        "\n",
        "    def area(self):\n",
        "        area= self.longitud * self.ancho\n",
        "        print(f\"El area del rectangulo es: {area}\")\n",
        "\n",
        "    def perimetro(self):\n",
        "        perimetro= 2 * (self.longitud + self.ancho)\n",
        "        print(f\"El perimetro del rectangulo es: {perimetro}\")\n",
        "\n",
        "rect = Rectangulo(10, 25)\n",
        "area = rect.area()\n",
        "perimetro = rect.perimetro()"
      ],
      "metadata": {
        "colab": {
          "base_uri": "https://localhost:8080/"
        },
        "id": "5K12ndfUhIjk",
        "outputId": "fbe9f10b-e79c-457b-87ce-a848f0ad275a"
      },
      "execution_count": 19,
      "outputs": [
        {
          "output_type": "stream",
          "name": "stdout",
          "text": [
            "El area del rectangulo es: 250\n",
            "El perimetro del rectangulo es: 70\n"
          ]
        }
      ]
    },
    {
      "cell_type": "code",
      "source": [
        "#EJERCICIO 4\n",
        "\n",
        "class Banco:\n",
        "    def __init__(self, nombre, direccion):\n",
        "        self.nombre = nombre\n",
        "        self.direccion = direccion\n",
        "        self.cuentas = {}  # Diccionario para almacenar las cuentas\n",
        "\n",
        "    def abrircuenta(self, cliente, saldoin=0):\n",
        "        if cliente not in self.cuentas:\n",
        "            self.cuentas[cliente] = saldoin\n",
        "            print(f\"Se ha abierto una cuenta para {cliente} con un saldo inicial de ${saldoin}.\")\n",
        "        else:\n",
        "            print(f\"La cuenta de {cliente} ya existe.\")\n",
        "\n",
        "    def depositar(self, cliente, cantidad):\n",
        "        if cliente in self.cuentas:\n",
        "            self.cuentas[cliente] += cantidad\n",
        "            print(f\"Se depositaron ${cantidad} en la cuenta de {cliente}.\")\n",
        "        else:\n",
        "            print(f\"El {cliente} no tiene una cuenta.\")\n",
        "\n",
        "    def retirar(self, cliente, cantidad):\n",
        "        if cliente in self.cuentas:\n",
        "            if self.cuentas[cliente] >= cantidad:\n",
        "                self.cuentas[cliente] -= cantidad\n",
        "                print(f\"Se retiraron ${cantidad} de la cuenta de {cliente}.\")\n",
        "            else:\n",
        "                print(f\"El {cliente} no cuenta con fondos suficientes.\")\n",
        "        else:\n",
        "            print(f\"El {cliente} no tiene una cuenta.\")\n",
        "\n",
        "    def revsaldo(self, cliente):\n",
        "        if cliente in self.cuentas:\n",
        "            print(f\"Su saldo actual es: ${self.cuentas[cliente]}.\")\n",
        "        else:\n",
        "            print(f\"El {cliente} no tiene una cuenta.\")\n",
        "\n",
        "banco1 = Banco(\"Bancolombia\", \"La Enea 1234\")\n",
        "banco1.abrircuenta(\"Gabriela\", 10000)\n",
        "banco1.depositar(\"Gabriela\", 20000)\n",
        "banco1.retirar(\"Gabriela\", 5000)\n",
        "banco1.revsaldo(\"Gabriela\")"
      ],
      "metadata": {
        "colab": {
          "base_uri": "https://localhost:8080/"
        },
        "id": "_UOJK82ti1CI",
        "outputId": "dfcb8893-9a18-45ae-9706-4563a13ad31e"
      },
      "execution_count": 20,
      "outputs": [
        {
          "output_type": "stream",
          "name": "stdout",
          "text": [
            "Se ha abierto una cuenta para Gabriela con un saldo inicial de $10000.\n",
            "Se depositaron $20000 en la cuenta de Gabriela.\n",
            "Se retiraron $5000 de la cuenta de Gabriela.\n",
            "Su saldo actual es: $25000.\n"
          ]
        }
      ]
    },
    {
      "cell_type": "code",
      "source": [
        "#EJERCICIO 5\n",
        "\n",
        "class Est:\n",
        "    def __init__(self, nombre, edad, promedio=0.0):\n",
        "        self.nombre = nombre\n",
        "        self.edad = edad\n",
        "        self.promedio = promedio\n",
        "\n",
        "    def estudiar(self, horasest):\n",
        "            self.promedio += 0.02 * horasest\n",
        "            print(f\"El estudiante {self.nombre} ha estudiado durante {horasest} horas.\")\n",
        "\n",
        "    def tareas(self, horastrabajo):\n",
        "            self.promedio += 0.05 * horastrabajo\n",
        "            print(f\"El estudiante {self.nombre} ha trabajado en tareas durante {horastrabajo} horas.\")\n",
        "\n",
        "    def examen(self, calificacion):\n",
        "        if 0 <= calificacion <= 2.9:\n",
        "            self.promedio = (self.promedio + calificacion) / 2\n",
        "            print(f\"El estudiante {self.nombre} perdió el examen con calificación {calificacion}. Su promedio actual es {self.promedio}.\")\n",
        "        else:\n",
        "          if 3 <= calificacion <= 5:\n",
        "            self.promedio = (self.promedio + calificacion) / 2\n",
        "            print(f\"El estudiante {self.nombre} ganó el examen con calificación {calificacion}. Su promedio actual es {self.promedio}.\")\n",
        "\n",
        "estudiante1 = Est(\"Mateo\", 21, 4.0)\n",
        "estudiante1.estudiar(8)\n",
        "estudiante1.tareas(4)\n",
        "estudiante1.examen(2.5)\n"
      ],
      "metadata": {
        "colab": {
          "base_uri": "https://localhost:8080/"
        },
        "id": "7wwb457nlZEW",
        "outputId": "685627a3-bf27-4bc8-c811-7ffa564fedb2"
      },
      "execution_count": 33,
      "outputs": [
        {
          "output_type": "stream",
          "name": "stdout",
          "text": [
            "El estudiante Mateo ha estudiado durante 8 horas.\n",
            "El estudiante Mateo ha trabajado en tareas durante 4 horas.\n",
            "El estudiante Mateo perdió el examen con calificación 2.5. Su promedio actual es 3.43.\n"
          ]
        }
      ]
    }
  ]
}