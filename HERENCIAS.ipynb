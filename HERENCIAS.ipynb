{
  "nbformat": 4,
  "nbformat_minor": 0,
  "metadata": {
    "colab": {
      "provenance": [],
      "authorship_tag": "ABX9TyPKlwwQBb0FwBrI3Ysb4F8z",
      "include_colab_link": true
    },
    "kernelspec": {
      "name": "python3",
      "display_name": "Python 3"
    },
    "language_info": {
      "name": "python"
    }
  },
  "cells": [
    {
      "cell_type": "markdown",
      "metadata": {
        "id": "view-in-github",
        "colab_type": "text"
      },
      "source": [
        "<a href=\"https://colab.research.google.com/github/GabrielaRomoM/EjerciciosSYS-Python/blob/main/HERENCIAS.ipynb\" target=\"_parent\"><img src=\"https://colab.research.google.com/assets/colab-badge.svg\" alt=\"Open In Colab\"/></a>"
      ]
    },
    {
      "cell_type": "code",
      "execution_count": 12,
      "metadata": {
        "colab": {
          "base_uri": "https://localhost:8080/"
        },
        "id": "qHz6OObGpVI7",
        "outputId": "c3acbd0e-1bfc-4ec7-8748-0cd427f19629"
      },
      "outputs": [
        {
          "output_type": "stream",
          "name": "stdout",
          "text": [
            "Área del círculo: 78.53981633974483\n",
            "Área del rectángulo: 250\n",
            "Área del triángulo: 27.0\n"
          ]
        }
      ],
      "source": [
        "#EJERCICIO 1\n",
        "\n",
        "from abc import ABC, abstractmethod\n",
        "import math\n",
        "\n",
        "class FigGeo(ABC):\n",
        "\n",
        "    @abstractmethod\n",
        "    def area(self):\n",
        "        pass\n",
        "\n",
        "class Circulo(FigGeo):\n",
        "    def __init__(self, radio):\n",
        "        self.radio = radio\n",
        "\n",
        "    def area(self):\n",
        "        return (math.pi * self.radio**2)\n",
        "\n",
        "class Rectangulo(FigGeo):\n",
        "    def __init__(self, base, altura):\n",
        "        self.base = base\n",
        "        self.altura = altura\n",
        "\n",
        "    def area(self):\n",
        "        return (self.base * self.altura)\n",
        "\n",
        "class Triangulo(FigGeo):\n",
        "    def __init__(self, base, altura):\n",
        "        self.base = base\n",
        "        self.altura = altura\n",
        "\n",
        "    def area(self):\n",
        "        return ((self.base * self.altura) / 2)\n",
        "\n",
        "circulo = Circulo(5)\n",
        "rectangulo = Rectangulo(10, 25)\n",
        "triangulo = Triangulo(9, 6)\n",
        "\n",
        "print(f\"Área del círculo: {circulo.area()}\")\n",
        "print(f\"Área del rectángulo: {rectangulo.area()}\")\n",
        "print(f\"Área del triángulo: {triangulo.area()}\")\n"
      ]
    },
    {
      "cell_type": "code",
      "source": [
        "#EJERCICIO 2\n",
        "\n",
        "class Vuelo:\n",
        "    def __init__(self, numvuelo, origen, destino, capmax):\n",
        "        self.numvuelo = numvuelo\n",
        "        self.origen = origen\n",
        "        self.destino = destino\n",
        "        self.capmax = capmax\n",
        "        self.asientosdispo = capmax\n",
        "        self.reservas = []\n",
        "\n",
        "    def verificarasientosdispo(self):\n",
        "        return self.asientosdispo\n",
        "\n",
        "    def reserva(self, cantasientos):\n",
        "        if cantasientos <= self.asientosdispo:\n",
        "            self.asientosdispo -= cantasientos\n",
        "            self.reservas.append(cantasientos)\n",
        "            return f\"Reserva realizada para {cantasientos} asientos en el vuelo {self.numvuelo}.\"\n",
        "        else:\n",
        "            return \"No hay suficientes asientos disponibles para realizar la reserva.\"\n",
        "\n",
        "    def infovuelo(self):\n",
        "        return f\"Vuelo {self.numvuelo} de {self.origen} a {self.destino}. Capacidad máxima: {self.capmax} pasajeros. Asientos disponibles: {self.asientosdispo}.\"\n",
        "\n",
        "\n",
        "class VueloEco(Vuelo):\n",
        "    def __init__(self, numvuelo, origen, destino, capmax, tarifa):\n",
        "        super().__init__(numvuelo, origen, destino, capmax)\n",
        "        self.tarifa = tarifa\n",
        "\n",
        "    def preciototal(self, cantasientos):\n",
        "        return cantasientos * self.tarifa\n",
        "\n",
        "vuelo1 = VueloEco(\"145632\", \"Medellin\", \"Bogotá\", 150, 350000)\n",
        "vuelo2= VueloEco(\"145632\", \"Medellin\", \"Bogotá\",150, 320000)\n",
        "\n",
        "print(vuelo1.infovuelo())\n",
        "print(vuelo1.reserva(3))\n",
        "print(f\"El valor total a pagar por los asientos es: {vuelo1.preciototal(3)}\")\n",
        "print()\n",
        "print(vuelo1.infovuelo())\n",
        "print(vuelo1.reserva(4))\n",
        "print(f\"El valor total a pagar por los asientos es: {vuelo1.preciototal(4)}\")\n"
      ],
      "metadata": {
        "colab": {
          "base_uri": "https://localhost:8080/"
        },
        "id": "EeIa-IdCsXB-",
        "outputId": "cbd92247-57fe-4ae3-c3cd-2fc08686b533"
      },
      "execution_count": 18,
      "outputs": [
        {
          "output_type": "stream",
          "name": "stdout",
          "text": [
            "Vuelo 145632 de Medellin a Bogotá. Capacidad máxima: 150 pasajeros. Asientos disponibles: 150.\n",
            "Reserva realizada para 3 asientos en el vuelo 145632.\n",
            "El valor total a pagar por los asientos es: 1050000\n",
            "\n",
            "Vuelo 145632 de Medellin a Bogotá. Capacidad máxima: 150 pasajeros. Asientos disponibles: 147.\n",
            "Reserva realizada para 4 asientos en el vuelo 145632.\n",
            "El valor total a pagar por los asientos es: 1400000\n"
          ]
        }
      ]
    }
  ]
}