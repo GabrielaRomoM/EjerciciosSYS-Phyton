{
  "nbformat": 4,
  "nbformat_minor": 0,
  "metadata": {
    "colab": {
      "provenance": [],
      "authorship_tag": "ABX9TyP6vjvbA6htdA1XC/4ZMSNk",
      "include_colab_link": true
    },
    "kernelspec": {
      "name": "python3",
      "display_name": "Python 3"
    },
    "language_info": {
      "name": "python"
    }
  },
  "cells": [
    {
      "cell_type": "markdown",
      "metadata": {
        "id": "view-in-github",
        "colab_type": "text"
      },
      "source": [
        "<a href=\"https://colab.research.google.com/github/GabrielaRomoM/EjerciciosSYS-Python/blob/main/PARCIALSYS.ipynb\" target=\"_parent\"><img src=\"https://colab.research.google.com/assets/colab-badge.svg\" alt=\"Open In Colab\"/></a>"
      ]
    },
    {
      "cell_type": "code",
      "execution_count": 60,
      "metadata": {
        "id": "-BZyClLejRNy"
      },
      "outputs": [],
      "source": [
        "import numpy as np\n",
        "import matplotlib.pyplot as plt\n",
        "from scipy.spatial.distance import cdist\n",
        "\n",
        "#Se importan las librerias que permiten la realización de las respectivas gráficas, calculos y arreglos"
      ]
    },
    {
      "cell_type": "code",
      "source": [
        "#Definición de la señal x(t)\n",
        "\n",
        "F = (2/5)*np.pi #Frecuencia, se toma la frecuencia mayor de todas las señales\n",
        "Fs= 40*F #Frecuencia de muestreo, el 40 hace referencia al numero de muestras\n",
        "Ts= 1/Fs #Tiempo de muestreo\n",
        "ti = 0 #Tiempo inicial\n",
        "tf = 4*np.pi #Tiempo final (corresponde a la cantidad de periodos que quiero observar)\n",
        "tv = np.arange(ti,tf,Ts) #vector de datos en el tiempo\n",
        "xv = 7*np.sin(4*tv-(np.pi/2))-2*np.cos(5*tv)+2*np.cos(10*tv) #vector de amplitud de todas las señales\n",
        "\n",
        "plt.figure(figsize=(15,6))\n",
        "plt.xlabel('Tiempo [s]')\n",
        "plt.ylabel('Amplitud')\n",
        "plt.plot(tv,xv)\n",
        "plt.grid()"
      ],
      "metadata": {
        "id": "DfI5pxiZjryq"
      },
      "execution_count": null,
      "outputs": []
    },
    {
      "cell_type": "code",
      "source": [
        "#Se hace el calculo de cero y pendiente para poder discretizar la señal\n",
        "ymin=-5  #valor minimo de tension pedido\n",
        "ymax=5  #valor maximo de tension pedido\n",
        "def pendiente(x,ymin,ymax):\n",
        "  xmax=max(x)\n",
        "  xmin=min(x)\n",
        "  m=(ymax-ymin)/(xmax-xmin) #calculo de la pendiente\n",
        "  c=ymin-m*xmin #intercepto\n",
        "  y=m*x+c #señal generada\n",
        "  return y"
      ],
      "metadata": {
        "id": "tiG6FXsvox-M"
      },
      "execution_count": null,
      "outputs": []
    },
    {
      "cell_type": "code",
      "source": [
        "xd = pendiente(xv,ymin,ymax) #Genera la señal discretizada\n",
        "plt.figure(figsize=(15,6))\n",
        "plt.xlabel('Tiempo [s]')\n",
        "plt.ylabel('Amplitud')\n",
        "plt.stem(tv,xd)\n",
        "plt.grid()\n",
        "\n",
        "#La grafica se ve completamente azul por la cantidad de muestras que se pidio discretizar, no se alcanzan a diferenciar entre si"
      ],
      "metadata": {
        "id": "um6tuYDno9wT"
      },
      "execution_count": null,
      "outputs": []
    },
    {
      "cell_type": "code",
      "source": [
        "#Para la cuantización se definen los estados necesarios, en este caso 3 bits corresponden a 8 estados\n",
        "nbits=3\n",
        "#Se define nuevamente el rango de tensión en el que se va a trabajar\n",
        "rmin=-5\n",
        "rmax=5\n",
        "#Se define el vector para 8 estados en base a la señal discretizada\n",
        "ve=np.linspace(rmin,rmax,2**nbits)\n",
        "d=cdist(xd.reshape(-1,1),ve.reshape(-1,1))\n",
        "ind=np.argmin(d,axis=1)"
      ],
      "metadata": {
        "id": "FMon00nbpVz4"
      },
      "execution_count": null,
      "outputs": []
    },
    {
      "cell_type": "code",
      "source": [
        "#Para la cuantizacion de nuestra señal debemos indexarla al vector de estados previamente diseñado\n",
        "def cuantizador(xvc,ves):\n",
        "  Tes=ves.shape[0] #Corresponde al tamaño del vector de estados\n",
        "  dn=cdist(xvc.reshape(-1,1),ves.reshape(-1,1))\n",
        "  ind=np.argmin(dn)\n",
        "  return ves[ind] #Se tiene el vector de estados para la señal x(t)"
      ],
      "metadata": {
        "id": "kpZRPv8npv-a"
      },
      "execution_count": null,
      "outputs": []
    },
    {
      "cell_type": "code",
      "source": [
        "#Para que la señal se cuantifique correctamente es necesario activar los puntos de la señal necesarios, es decir todos las muestras diferentes de cero\n",
        "for i in range(xd.shape[0]):\n",
        "  if i==0:\n",
        "    xvc=cuantizador(xd[i],ve)\n",
        "  else:\n",
        "    xvc=np.append(xvc,cuantizador(xd[i],ve))"
      ],
      "metadata": {
        "id": "VyKjT1XOqTDy"
      },
      "execution_count": null,
      "outputs": []
    },
    {
      "cell_type": "code",
      "source": [
        "#Ahora se grafican todas las señales\n",
        "plt.figure(figsize=(15,6))\n",
        "plt.plot(tv,xd,c='y')#señal continua\n",
        "\n",
        "plt.stem(tv,xd) #señal discreta\n",
        "\n",
        "#Estados de cuantización\n",
        "for v in ve:\n",
        "  plt.plot(tv,v*np.ones(len(tv))) #Permite visualizar los 8 estados\n",
        "\n",
        "#Graficar señal Digital (discreta + cuantizada)\n",
        "\n",
        "plt.plot(tv,xd,c='g',linewidth=2)\n",
        "plt.grid()\n",
        "plt.xlabel('Tiempo [s]')\n",
        "plt.ylabel('Amplitud')\n",
        "plt.show()"
      ],
      "metadata": {
        "id": "ztW4GjbZrFuK"
      },
      "execution_count": null,
      "outputs": []
    }
  ]
}