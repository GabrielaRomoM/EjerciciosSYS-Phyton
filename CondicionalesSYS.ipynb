{
  "cells": [
    {
      "cell_type": "markdown",
      "metadata": {
        "id": "view-in-github",
        "colab_type": "text"
      },
      "source": [
        "<a href=\"https://colab.research.google.com/github/GabrielaRomoM/EjerciciosSYS-Phyton/blob/main/CondicionalesSYS.ipynb\" target=\"_parent\"><img src=\"https://colab.research.google.com/assets/colab-badge.svg\" alt=\"Open In Colab\"/></a>"
      ]
    },
    {
      "cell_type": "code",
      "execution_count": 33,
      "metadata": {
        "colab": {
          "base_uri": "https://localhost:8080/"
        },
        "id": "s81diK7vg3Nl",
        "outputId": "05c31da1-97ae-4aa1-9bc9-25bde65c66a4"
      },
      "outputs": [
        {
          "output_type": "stream",
          "name": "stdout",
          "text": [
            "Digite su edad: 18\n",
            "Digite el valor de su ingreso mensual: 2500\n",
            "Tiene que pagar impuestos\n"
          ]
        }
      ],
      "source": [
        "#EJERCICIO 1\n",
        "a=input(\"Digite su edad: \")\n",
        "a\n",
        "a2=int(a)\n",
        "\n",
        "if a2 < 16:\n",
        "  print(\"No tiene que pagar impuestos\")\n",
        "else:\n",
        "   p=input(\"Digite el valor de su ingreso mensual: \")\n",
        "   p\n",
        "   p2=int(p)\n",
        "   if p2 > 1000:\n",
        "      print(\"Tiene que pagar impuestos\")\n",
        "   else:\n",
        "      print(\"No tiene que pagar impuestos\")\n"
      ]
    },
    {
      "cell_type": "code",
      "source": [
        "#EJERCICIO 2\n",
        "pizza=input(\"¿Desea pizza vegetariana? (1)SI o (2)NO: \")\n",
        "pizza\n",
        "pizza2=int(pizza)\n",
        "\n",
        "if pizza2==1:\n",
        "   print(\"Elija los ingredientes: \\n\")\n",
        "   ing=input(\"(1)pimentones, (2)Tofu: \")\n",
        "   ing\n",
        "   ing2=int(ing)\n",
        "   if ing2==1:\n",
        "      print(\"Pizza vegetariana con pimentones\")\n",
        "   else:\n",
        "      print(\"Pizza vegetariana con Tofu\")\n",
        "elif pizza2==2:\n",
        "  print(\"Elija los ingredientes: \\n\")\n",
        "  ingg=input(\"(1)Peperoni,(2)Jamon o (3)Salmon: \")\n",
        "  ingg\n",
        "  ingg2=int(ingg)\n",
        "  if ingg2==1:\n",
        "      print(\"Pizza con Peperoni\")\n",
        "  else:\n",
        "      if ingg2==2:\n",
        "        print(\"Pizza con Jamon\")\n",
        "      else:\n",
        "        print(\"Pizza con Salmon\")\n",
        "\n",
        "\n",
        "\n"
      ],
      "metadata": {
        "colab": {
          "base_uri": "https://localhost:8080/"
        },
        "id": "tXRVVnT0lCQW",
        "outputId": "ccb43f8b-07bc-4b93-dfae-d161ef46e635"
      },
      "execution_count": null,
      "outputs": [
        {
          "output_type": "stream",
          "name": "stdout",
          "text": [
            "¿Desea pizza vegetariana? (1)SI o (2)NO: 2\n",
            "Elija los ingredientes: \n",
            "\n",
            "(1)Peperoni,(2)Jamon o (3)Salmon: 2\n",
            "Pizza con Jamon\n"
          ]
        }
      ]
    }
  ],
  "metadata": {
    "colab": {
      "provenance": [],
      "authorship_tag": "ABX9TyMQCXO0WS6opneHjhJRbst6",
      "include_colab_link": true
    },
    "kernelspec": {
      "display_name": "Python 3",
      "name": "python3"
    },
    "language_info": {
      "name": "python"
    }
  },
  "nbformat": 4,
  "nbformat_minor": 0
}